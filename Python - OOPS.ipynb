{
 "cells": [
  {
   "cell_type": "markdown",
   "id": "8583367a",
   "metadata": {},
   "source": [
    "# OOPS"
   ]
  },
  {
   "cell_type": "code",
   "execution_count": 2,
   "id": "8b13dbea",
   "metadata": {},
   "outputs": [
    {
     "name": "stdout",
     "output_type": "stream",
     "text": [
      "25\n"
     ]
    }
   ],
   "source": [
    "class suma:\n",
    "    def sum(a,b):\n",
    "        print(a+b)\n",
    "        \n",
    "a = suma     #Creating Object of suma class\n",
    "a.sum(12,13)"
   ]
  },
  {
   "cell_type": "code",
   "execution_count": null,
   "id": "6f97cb81",
   "metadata": {},
   "outputs": [],
   "source": []
  },
  {
   "cell_type": "code",
   "execution_count": 11,
   "id": "205c5c1f",
   "metadata": {},
   "outputs": [
    {
     "name": "stdout",
     "output_type": "stream",
     "text": [
      "Config is I5 8\n"
     ]
    }
   ],
   "source": [
    "class computer:\n",
    "    def __init__(self, cpu, ram):\n",
    "        self.cpu = cpu\n",
    "        self.ram = ram\n",
    "        \n",
    "    def config(self):\n",
    "        print(\"Config is \" + self.cpu + \" \" + str(self.ram))\n",
    "    \n",
    "c1 = computer(\"I5\", 8)\n",
    "c1.config()\n"
   ]
  },
  {
   "cell_type": "code",
   "execution_count": 8,
   "id": "e2ee2c57",
   "metadata": {},
   "outputs": [
    {
     "name": "stdout",
     "output_type": "stream",
     "text": [
      "Toyota 2016\n"
     ]
    }
   ],
   "source": [
    "class car:  \n",
    "    def __init__(self,modelname, year):  \n",
    "        self.modelname = modelname  \n",
    "        self.year = year  \n",
    "    def display(self):  \n",
    "        print(self.modelname,self.year)  \n",
    "  \n",
    "c1 = car(\"Toyota\", 2016)  \n",
    "c1.display()  "
   ]
  },
  {
   "cell_type": "code",
   "execution_count": null,
   "id": "a3cd8f43",
   "metadata": {},
   "outputs": [],
   "source": []
  },
  {
   "cell_type": "markdown",
   "id": "77869895",
   "metadata": {},
   "source": [
    "## Inheritance"
   ]
  },
  {
   "cell_type": "code",
   "execution_count": 14,
   "id": "731262b2",
   "metadata": {},
   "outputs": [
    {
     "name": "stdout",
     "output_type": "stream",
     "text": [
      "26\n",
      "<__main__.b object at 0x0000023468EA6BF0>\n"
     ]
    }
   ],
   "source": [
    "class a:\n",
    "    p = 12 \n",
    "    q = 14\n",
    "    \n",
    "class b(a):\n",
    "    def __init__(self):\n",
    "        print(self.p + self.q)\n",
    "    \n",
    "v = b()\n",
    "print(v)\n",
    "\n",
    "    "
   ]
  },
  {
   "cell_type": "code",
   "execution_count": null,
   "id": "c0def4b7",
   "metadata": {},
   "outputs": [],
   "source": []
  }
 ],
 "metadata": {
  "kernelspec": {
   "display_name": "Python 3 (ipykernel)",
   "language": "python",
   "name": "python3"
  },
  "language_info": {
   "codemirror_mode": {
    "name": "ipython",
    "version": 3
   },
   "file_extension": ".py",
   "mimetype": "text/x-python",
   "name": "python",
   "nbconvert_exporter": "python",
   "pygments_lexer": "ipython3",
   "version": "3.10.9"
  }
 },
 "nbformat": 4,
 "nbformat_minor": 5
}
