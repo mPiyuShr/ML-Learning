{
 "cells": [
  {
   "cell_type": "code",
   "execution_count": 1,
   "id": "41fef105",
   "metadata": {},
   "outputs": [],
   "source": [
    "import numpy as np"
   ]
  },
  {
   "cell_type": "code",
   "execution_count": 3,
   "id": "e513a97a",
   "metadata": {},
   "outputs": [
    {
     "name": "stdout",
     "output_type": "stream",
     "text": [
      "[1 2 3 4 5]\n",
      "<class 'numpy.ndarray'>\n"
     ]
    }
   ],
   "source": [
    "a = np.array([1,2,3,4,5])\n",
    "print(a)\n",
    "print(type(a))"
   ]
  },
  {
   "cell_type": "code",
   "execution_count": 12,
   "id": "5f5f2284",
   "metadata": {},
   "outputs": [
    {
     "name": "stdout",
     "output_type": "stream",
     "text": [
      "[[1 2 3]\n",
      " [3 4 5]]\n",
      "(2, 3)\n",
      "<class 'numpy.ndarray'>\n",
      "1\n"
     ]
    }
   ],
   "source": [
    "b = np.array([[1,2,3] , [3,4,5]])\n",
    "print(b)\n",
    "print(b.shape)        # dimentions of array\n",
    "print(type(b))\n",
    "\n",
    "print(b[0][0])      # printing a00 . in this indexing starts with 0,0"
   ]
  },
  {
   "cell_type": "code",
   "execution_count": 15,
   "id": "f2fdca6c",
   "metadata": {},
   "outputs": [
    {
     "name": "stdout",
     "output_type": "stream",
     "text": [
      "[[0. 0. 0.]\n",
      " [0. 0. 0.]\n",
      " [0. 0. 0.]]\n",
      "[[1. 1. 1.]\n",
      " [1. 1. 1.]\n",
      " [1. 1. 1.]\n",
      " [1. 1. 1.]]\n"
     ]
    }
   ],
   "source": [
    "# some standard matrixes\n",
    "print(np.zeros((3,3)))\n",
    "print(np.ones((4,3)))\n",
    "\n"
   ]
  },
  {
   "cell_type": "code",
   "execution_count": 17,
   "id": "239e35b4",
   "metadata": {},
   "outputs": [
    {
     "name": "stdout",
     "output_type": "stream",
     "text": [
      "[[0.59544797 0.77312743 0.56552802 0.55544745 0.12673594]\n",
      " [0.80620928 0.65229622 0.47109437 0.52161421 0.88505096]\n",
      " [0.96624144 0.25315838 0.39438802 0.81608113 0.37591497]\n",
      " [0.43853275 0.93728145 0.4487891  0.43994746 0.38222682]]\n"
     ]
    }
   ],
   "source": [
    "ran = np.random.random((4,5))\n",
    "print(ran)\n"
   ]
  },
  {
   "cell_type": "code",
   "execution_count": 25,
   "id": "8b4fb4c2",
   "metadata": {},
   "outputs": [
    {
     "name": "stdout",
     "output_type": "stream",
     "text": [
      "[[0.59544797 0.77312743 0.56552802 0.55544745 0.12673594]\n",
      " [4.         4.         4.         0.52161421 0.88505096]\n",
      " [4.         4.         4.         0.81608113 0.37591497]\n",
      " [0.43853275 0.93728145 0.4487891  0.43994746 0.38222682]]\n"
     ]
    }
   ],
   "source": [
    "# You can change elements of any row or column like this\n",
    "ran[1:3,0:3] = 4\n",
    "print(ran)"
   ]
  },
  {
   "cell_type": "code",
   "execution_count": null,
   "id": "05ea88fd",
   "metadata": {},
   "outputs": [],
   "source": []
  },
  {
   "cell_type": "markdown",
   "id": "5b391e8c",
   "metadata": {},
   "source": [
    "#### Mathematical operations on array"
   ]
  },
  {
   "cell_type": "code",
   "execution_count": 34,
   "id": "a665b3c8",
   "metadata": {},
   "outputs": [
    {
     "name": "stdout",
     "output_type": "stream",
     "text": [
      "[[ 6  8]\n",
      " [10 12]]\n",
      "[[ 6  8]\n",
      " [10 12]]\n",
      "[[1.         1.41421356]\n",
      " [1.73205081 2.        ]]\n"
     ]
    }
   ],
   "source": [
    "arr1 = np.array([[1,2],[3,4]])\n",
    "arr2 = np.array([[5,6],[7,8]])\n",
    "print(arr1 + arr2)\n",
    "print(np.add(arr1,arr2))\n",
    "print(np.sqrt(arr1))\n"
   ]
  },
  {
   "cell_type": "code",
   "execution_count": 35,
   "id": "27065f35",
   "metadata": {},
   "outputs": [
    {
     "name": "stdout",
     "output_type": "stream",
     "text": [
      "[[ 5 12]\n",
      " [21 32]]\n",
      "[[0.2        0.33333333]\n",
      " [0.42857143 0.5       ]]\n",
      "[[0.2        0.33333333]\n",
      " [0.42857143 0.5       ]]\n"
     ]
    }
   ],
   "source": [
    "# MUltipication\n",
    "\n",
    "# element wise\n",
    "print(arr1*arr2)\n",
    "print(np.divide(arr1,arr2))\n",
    "print(arr1/arr2)\n",
    "#"
   ]
  },
  {
   "cell_type": "code",
   "execution_count": 36,
   "id": "9bb050b4",
   "metadata": {},
   "outputs": [
    {
     "name": "stdout",
     "output_type": "stream",
     "text": [
      "[[19 22]\n",
      " [43 50]]\n"
     ]
    }
   ],
   "source": [
    "# array dot product\n",
    "# real matrix multipication\n",
    "p = np.array([[1,2] , [3,4]])\n",
    "q = np.array([[5,6] , [7,8]])\n",
    "print(np.dot(p,q))"
   ]
  },
  {
   "cell_type": "code",
   "execution_count": 37,
   "id": "c6519f41",
   "metadata": {},
   "outputs": [
    {
     "name": "stdout",
     "output_type": "stream",
     "text": [
      "[30]\n"
     ]
    }
   ],
   "source": [
    "# scaler multipication\n",
    "r = np.array([1,2,3,4])\n",
    "s = np.array([[1],[2],[3],[4]])\n",
    "print(np.dot(r,s))"
   ]
  },
  {
   "cell_type": "code",
   "execution_count": 38,
   "id": "eec6727b",
   "metadata": {},
   "outputs": [
    {
     "name": "stdout",
     "output_type": "stream",
     "text": [
      "10\n"
     ]
    }
   ],
   "source": [
    "print(np.sum(r))"
   ]
  },
  {
   "cell_type": "code",
   "execution_count": 39,
   "id": "3da910da",
   "metadata": {},
   "outputs": [
    {
     "name": "stdout",
     "output_type": "stream",
     "text": [
      "10\n"
     ]
    }
   ],
   "source": [
    "print(np.sum(s))"
   ]
  },
  {
   "cell_type": "code",
   "execution_count": 41,
   "id": "c3dd95d5",
   "metadata": {},
   "outputs": [
    {
     "name": "stdout",
     "output_type": "stream",
     "text": [
      "[ 1  4  9 16]\n"
     ]
    }
   ],
   "source": [
    "## assinging values of array r to array t\n",
    "t = np.array(r**2)\n",
    "print(t)"
   ]
  },
  {
   "cell_type": "code",
   "execution_count": 42,
   "id": "676774e9",
   "metadata": {},
   "outputs": [
    {
     "name": "stdout",
     "output_type": "stream",
     "text": [
      "[[ 1]\n",
      " [ 4]\n",
      " [ 9]\n",
      " [16]]\n"
     ]
    }
   ],
   "source": [
    "# reshaping or arrys\n",
    "print(t.reshape(4,1))        # t will convert to shape 4*1 from 1*4"
   ]
  },
  {
   "cell_type": "code",
   "execution_count": 43,
   "id": "53cc63e1",
   "metadata": {},
   "outputs": [
    {
     "name": "stdout",
     "output_type": "stream",
     "text": [
      "(4, 3)\n"
     ]
    }
   ],
   "source": [
    "arr3 = np.array([[1,2,3] , [4,5,6] , [7,8,9] , [10,11,12]])\n",
    "print(arr3.shape)"
   ]
  },
  {
   "cell_type": "code",
   "execution_count": 45,
   "id": "cdc9255d",
   "metadata": {},
   "outputs": [
    {
     "name": "stdout",
     "output_type": "stream",
     "text": [
      "[[ 1  2]\n",
      " [ 3  4]\n",
      " [ 5  6]\n",
      " [ 7  8]\n",
      " [ 9 10]\n",
      " [11 12]]\n",
      "  \n",
      "[[ 1  2  3  4  5  6]\n",
      " [ 7  8  9 10 11 12]]\n"
     ]
    }
   ],
   "source": [
    "# You can array according to their dimentions\n",
    "print(arr3.reshape(6,2))\n",
    "print(\"  \")\n",
    "print(arr3.reshape(2,6))"
   ]
  },
  {
   "cell_type": "code",
   "execution_count": null,
   "id": "6ac16a2f",
   "metadata": {},
   "outputs": [],
   "source": [
    "\n",
    "\n"
   ]
  },
  {
   "cell_type": "code",
   "execution_count": null,
   "id": "60a23186",
   "metadata": {},
   "outputs": [],
   "source": []
  },
  {
   "cell_type": "markdown",
   "id": "05f179dd",
   "metadata": {},
   "source": [
    "####  Random functions"
   ]
  },
  {
   "cell_type": "code",
   "execution_count": 54,
   "id": "16983b99",
   "metadata": {},
   "outputs": [
    {
     "name": "stdout",
     "output_type": "stream",
     "text": [
      "[0 1 2 3 4 5 6 7 8 9]\n"
     ]
    }
   ],
   "source": [
    "## aranged way of numbers\n",
    "arr4 = (np.arange(10))\n",
    "print(arr4)"
   ]
  },
  {
   "cell_type": "code",
   "execution_count": 55,
   "id": "254a756b",
   "metadata": {},
   "outputs": [
    {
     "name": "stdout",
     "output_type": "stream",
     "text": [
      "None\n"
     ]
    }
   ],
   "source": [
    "print(np.random.shuffle(arr4))"
   ]
  },
  {
   "cell_type": "code",
   "execution_count": 56,
   "id": "6591d07e",
   "metadata": {},
   "outputs": [
    {
     "name": "stdout",
     "output_type": "stream",
     "text": [
      "[[0.83416129 0.23551558 0.65078085 0.44781523 0.81785951 0.70316999]\n",
      " [0.7240323  0.70522879 0.58584412 0.19842959 0.73077574 0.15087228]\n",
      " [0.14538097 0.25868862 0.00990375 0.03996256 0.71674612 0.30306026]\n",
      " [0.36472079 0.1497546  0.23344715 0.37001238 0.76307634 0.05245451]]\n"
     ]
    }
   ],
   "source": [
    "print(np.random.rand(4,6))"
   ]
  },
  {
   "cell_type": "code",
   "execution_count": 61,
   "id": "57a88c59",
   "metadata": {},
   "outputs": [
    {
     "name": "stdout",
     "output_type": "stream",
     "text": [
      "[3 5 5 5 7 7 9]\n"
     ]
    }
   ],
   "source": [
    "print(np.random.randint(1,10,7))"
   ]
  },
  {
   "cell_type": "code",
   "execution_count": 4,
   "id": "087ee268",
   "metadata": {},
   "outputs": [
    {
     "name": "stdout",
     "output_type": "stream",
     "text": [
      "6\n"
     ]
    }
   ],
   "source": [
    "list1 = [0 ,1, 2, 3 ,4 ,5, 6, 7, 8, 9] \n",
    "print(np.random.choice(list1))              # print random value from this list "
   ]
  },
  {
   "cell_type": "code",
   "execution_count": 68,
   "id": "e9a30cc1",
   "metadata": {},
   "outputs": [
    {
     "name": "stdout",
     "output_type": "stream",
     "text": [
      "[5 6]\n"
     ]
    }
   ],
   "source": [
    "arr6 = np.arange(2) + 5\n",
    "print(arr6)"
   ]
  },
  {
   "cell_type": "code",
   "execution_count": null,
   "id": "5b5b3d3c",
   "metadata": {},
   "outputs": [],
   "source": []
  },
  {
   "cell_type": "markdown",
   "id": "de03512c",
   "metadata": {},
   "source": [
    "### Numpy advanced functions"
   ]
  },
  {
   "cell_type": "markdown",
   "id": "3bee9614",
   "metadata": {},
   "source": [
    "- min/max\n",
    "- mean\n",
    "- median \n",
    "- average \n",
    "- std \n",
    "- var"
   ]
  },
  {
   "cell_type": "code",
   "execution_count": 5,
   "id": "6a91abd2",
   "metadata": {},
   "outputs": [
    {
     "name": "stdout",
     "output_type": "stream",
     "text": [
      "[[0.6208357  0.07426926 0.2279685  0.01632727]\n",
      " [0.88469975 0.2495509  0.78941986 0.93488929]\n",
      " [0.06641522 0.20795394 0.93723051 0.0767205 ]]\n"
     ]
    }
   ],
   "source": [
    "arr8 = np.random.rand(3,4)\n",
    "print(arr8)"
   ]
  },
  {
   "cell_type": "code",
   "execution_count": 9,
   "id": "5ca123f8",
   "metadata": {
    "scrolled": true
   },
   "outputs": [
    {
     "name": "stdout",
     "output_type": "stream",
     "text": [
      "0.016327274709710737\n",
      "[0.06641522 0.07426926 0.2279685  0.01632727]\n",
      "[0.01632727 0.2495509  0.06641522]\n"
     ]
    }
   ],
   "source": [
    "# Min function -> will print minimum value \n",
    "print(np.min(arr8))\n",
    "\n",
    "print(np.min(arr8 , axis = 0))   # axis 0 -> go through columns\n",
    "print(np.min(arr8 , axis = 1))   # axis 1 -> go through rows"
   ]
  },
  {
   "cell_type": "code",
   "execution_count": 11,
   "id": "624bfed5",
   "metadata": {},
   "outputs": [
    {
     "name": "stdout",
     "output_type": "stream",
     "text": [
      "0.9372305068345869\n"
     ]
    }
   ],
   "source": [
    "# print maximum value from array\n",
    "print(np.max(arr8))       "
   ]
  },
  {
   "cell_type": "code",
   "execution_count": 13,
   "id": "9ac4b8c1",
   "metadata": {},
   "outputs": [
    {
     "name": "stdout",
     "output_type": "stream",
     "text": [
      "[1 2 3 4 5]\n"
     ]
    }
   ],
   "source": [
    "arr9 = np.array([1,2,3,4,5])\n",
    "print(arr9)"
   ]
  },
  {
   "cell_type": "code",
   "execution_count": 18,
   "id": "0690a09a",
   "metadata": {},
   "outputs": [
    {
     "name": "stdout",
     "output_type": "stream",
     "text": [
      "3.0\n",
      "3.0\n"
     ]
    }
   ],
   "source": [
    "print(np.mean(arr9))\n",
    "print(np.median(arr9))"
   ]
  },
  {
   "cell_type": "code",
   "execution_count": 17,
   "id": "07eff33c",
   "metadata": {},
   "outputs": [
    {
     "name": "stdout",
     "output_type": "stream",
     "text": [
      "0.23875970160207138\n",
      "0.4238567254424049\n"
     ]
    }
   ],
   "source": [
    "print(np.median(arr8))\n",
    "print(np.mean(arr8))"
   ]
  },
  {
   "cell_type": "code",
   "execution_count": 20,
   "id": "df2df640",
   "metadata": {},
   "outputs": [
    {
     "name": "stdout",
     "output_type": "stream",
     "text": [
      "3.0\n",
      "0.4238567254424049\n"
     ]
    }
   ],
   "source": [
    "print(np.average(arr9))\n",
    "print(np.average(arr8))"
   ]
  },
  {
   "cell_type": "code",
   "execution_count": null,
   "id": "30966a13",
   "metadata": {},
   "outputs": [],
   "source": []
  },
  {
   "cell_type": "code",
   "execution_count": 23,
   "id": "2c4ea228",
   "metadata": {},
   "outputs": [
    {
     "name": "stdout",
     "output_type": "stream",
     "text": [
      "0.3607225041760086\n",
      "1.4142135623730951\n"
     ]
    }
   ],
   "source": [
    "print(np.std(arr8))\n",
    "print(np.std(arr9))"
   ]
  },
  {
   "cell_type": "code",
   "execution_count": 24,
   "id": "72ff442b",
   "metadata": {},
   "outputs": [
    {
     "name": "stdout",
     "output_type": "stream",
     "text": [
      "0.13012072501901054\n",
      "2.0\n"
     ]
    }
   ],
   "source": [
    "print(np.var(arr8))\n",
    "print(np.var(arr9))"
   ]
  },
  {
   "cell_type": "code",
   "execution_count": null,
   "id": "948e4e94",
   "metadata": {},
   "outputs": [],
   "source": []
  },
  {
   "cell_type": "code",
   "execution_count": null,
   "id": "fc5b1a53",
   "metadata": {},
   "outputs": [],
   "source": []
  },
  {
   "cell_type": "markdown",
   "id": "3537ad58",
   "metadata": {},
   "source": [
    "### Tensors -> 3-d arrays"
   ]
  },
  {
   "cell_type": "code",
   "execution_count": 41,
   "id": "762262ad",
   "metadata": {},
   "outputs": [
    {
     "name": "stdout",
     "output_type": "stream",
     "text": [
      "[[[1 1]\n",
      "  [1 1]\n",
      "  [1 1]]\n",
      "\n",
      " [[1 1]\n",
      "  [1 1]\n",
      "  [1 1]]\n",
      "\n",
      " [[1 1]\n",
      "  [1 1]\n",
      "  [1 1]]\n",
      "\n",
      " [[1 1]\n",
      "  [1 1]\n",
      "  [1 1]]]\n"
     ]
    }
   ],
   "source": [
    "# This will create an array of 4 channels , 3 rows and 3 column in each channel\n",
    "\n",
    "X = np.ones((4,3,2) , dtype = \"int32\")       # dtype -> for datatype declearation\n",
    "print(X)\n"
   ]
  },
  {
   "cell_type": "code",
   "execution_count": null,
   "id": "48571569",
   "metadata": {},
   "outputs": [],
   "source": []
  },
  {
   "cell_type": "code",
   "execution_count": 47,
   "id": "a5ce3698",
   "metadata": {},
   "outputs": [
    {
     "name": "stdout",
     "output_type": "stream",
     "text": [
      "[1 1 1 1 1]\n"
     ]
    }
   ],
   "source": [
    "arr15 = np.ones((5) , dtype = \"int32\")\n",
    "print(arr15)"
   ]
  },
  {
   "cell_type": "code",
   "execution_count": 50,
   "id": "cdb62b2d",
   "metadata": {},
   "outputs": [
    {
     "name": "stdout",
     "output_type": "stream",
     "text": [
      "[11 11 11 11 11]\n",
      "[10 10 10 10 10]\n",
      "[0.1 0.1 0.1 0.1 0.1]\n"
     ]
    }
   ],
   "source": [
    "print(arr15+10)   # 10 will add to each element of arr15\n",
    "print(arr15*10)\n",
    "print(arr15/10)\n"
   ]
  },
  {
   "cell_type": "code",
   "execution_count": 53,
   "id": "85238e70",
   "metadata": {},
   "outputs": [
    {
     "name": "stdout",
     "output_type": "stream",
     "text": [
      "[  1  16  81 256 625]\n"
     ]
    }
   ],
   "source": [
    "arr16 =np.array([1,2,3,4,5]) \n",
    "print(arr16**4)"
   ]
  },
  {
   "cell_type": "code",
   "execution_count": null,
   "id": "7c69ba14",
   "metadata": {},
   "outputs": [],
   "source": []
  },
  {
   "cell_type": "code",
   "execution_count": 62,
   "id": "b94f8628",
   "metadata": {},
   "outputs": [
    {
     "name": "stdout",
     "output_type": "stream",
     "text": [
      "[[10  5]\n",
      " [24 11]]\n"
     ]
    }
   ],
   "source": [
    "# Matrix multipication\n",
    "\n",
    "arr17 = np.array([[1,2] ,[3,4]])\n",
    "arr18 = np.array([[4,1] ,[3,2]])\n",
    "print(np.dot(arr17 , arr18))"
   ]
  },
  {
   "cell_type": "code",
   "execution_count": null,
   "id": "7ba28e7d",
   "metadata": {},
   "outputs": [],
   "source": []
  },
  {
   "cell_type": "markdown",
   "id": "cc48a2b1",
   "metadata": {},
   "source": [
    "\n",
    "### linalg method -> for linear algebra releated calculations\n"
   ]
  },
  {
   "cell_type": "markdown",
   "id": "c855cb9c",
   "metadata": {},
   "source": [
    "- inv\n",
    "- det"
   ]
  },
  {
   "cell_type": "code",
   "execution_count": 66,
   "id": "c388d48d",
   "metadata": {},
   "outputs": [
    {
     "name": "stdout",
     "output_type": "stream",
     "text": [
      "-2.0000000000000004\n",
      "4.999999999999999\n"
     ]
    }
   ],
   "source": [
    "# determinant of array\n",
    "\n",
    "print(np.linalg.det(arr17))\n",
    "print(np.linalg.det(arr18))"
   ]
  },
  {
   "cell_type": "code",
   "execution_count": 74,
   "id": "a39c5fc5",
   "metadata": {},
   "outputs": [
    {
     "name": "stdout",
     "output_type": "stream",
     "text": [
      "[[-2.   1. ]\n",
      " [ 1.5 -0.5]]\n",
      "[[1.00000000e+00 1.11022302e-16]\n",
      " [0.00000000e+00 1.00000000e+00]]\n"
     ]
    }
   ],
   "source": [
    "# Printing inverce of matrix -> arr17\n",
    "arr20 = (np.linalg.inv(arr17))\n",
    "print(arr20)\n",
    "\n",
    "# verifying multipication\n",
    "print(np.dot(arr17,arr20))"
   ]
  },
  {
   "cell_type": "code",
   "execution_count": 79,
   "id": "4f2534b1",
   "metadata": {},
   "outputs": [
    {
     "name": "stdout",
     "output_type": "stream",
     "text": [
      "[[0.048 0.024]\n",
      " [0.064 0.032]]\n",
      "[[0.8 0.4]\n",
      " [0.4 0.2]]\n"
     ]
    }
   ],
   "source": [
    "# Psudo inverse -> when matrix is not inversible \n",
    "\n",
    "arr21 = np.array([[6,8] , [3,4]])\n",
    "arr22 = np.linalg.pinv(arr21)\n",
    "print(arr22)\n",
    "print(np.dot(arr21 , arr22))\n"
   ]
  },
  {
   "cell_type": "markdown",
   "id": "ba7185c8",
   "metadata": {},
   "source": [
    "#### Solving eqn's using numpy.linalg"
   ]
  },
  {
   "cell_type": "code",
   "execution_count": 80,
   "id": "2abb5e07",
   "metadata": {},
   "outputs": [
    {
     "data": {
      "text/plain": [
       "array([1., 2.])"
      ]
     },
     "execution_count": 80,
     "metadata": {},
     "output_type": "execute_result"
    }
   ],
   "source": [
    "# Solving equations using numpy\n",
    "# eqns are : 2x+3y = 8 , 3x+y=5\n",
    "\n",
    "a = np.array([[2,3] , [3,1]])\n",
    "b = np.array([8,5])\n",
    "np.linalg.solve(a,b)                # will give values of X , Y"
   ]
  },
  {
   "cell_type": "code",
   "execution_count": null,
   "id": "a857c98c",
   "metadata": {},
   "outputs": [],
   "source": []
  }
 ],
 "metadata": {
  "kernelspec": {
   "display_name": "Python 3 (ipykernel)",
   "language": "python",
   "name": "python3"
  },
  "language_info": {
   "codemirror_mode": {
    "name": "ipython",
    "version": 3
   },
   "file_extension": ".py",
   "mimetype": "text/x-python",
   "name": "python",
   "nbconvert_exporter": "python",
   "pygments_lexer": "ipython3",
   "version": "3.10.9"
  }
 },
 "nbformat": 4,
 "nbformat_minor": 5
}
