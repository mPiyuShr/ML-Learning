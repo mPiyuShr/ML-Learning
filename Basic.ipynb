{
 "cells": [
  {
   "cell_type": "markdown",
   "id": "30701d47",
   "metadata": {},
   "source": [
    "# Basic of Python"
   ]
  },
  {
   "cell_type": "code",
   "execution_count": null,
   "id": "0d15ddee",
   "metadata": {},
   "outputs": [],
   "source": [
    "print(\"Hello world\")"
   ]
  },
  {
   "cell_type": "code",
   "execution_count": 1,
   "id": "3c386f84",
   "metadata": {},
   "outputs": [
    {
     "name": "stdout",
     "output_type": "stream",
     "text": [
      "a\n"
     ]
    },
    {
     "data": {
      "text/plain": [
       "'a'"
      ]
     },
     "execution_count": 1,
     "metadata": {},
     "output_type": "execute_result"
    }
   ],
   "source": [
    "input()\n"
   ]
  },
  {
   "cell_type": "code",
   "execution_count": null,
   "id": "9c505d95",
   "metadata": {},
   "outputs": [],
   "source": []
  },
  {
   "cell_type": "code",
   "execution_count": null,
   "id": "d6a72f1a",
   "metadata": {},
   "outputs": [],
   "source": [
    "a = input(\"Enter your name: \")\n",
    "print(\"Good morning \"+ a)"
   ]
  },
  {
   "cell_type": "code",
   "execution_count": 16,
   "id": "ab0643d5",
   "metadata": {},
   "outputs": [],
   "source": [
    "num = \"1,2,3,4,5\"\n"
   ]
  },
  {
   "cell_type": "code",
   "execution_count": null,
   "id": "456b32cd",
   "metadata": {},
   "outputs": [],
   "source": []
  },
  {
   "cell_type": "code",
   "execution_count": 3,
   "id": "b759ba74",
   "metadata": {},
   "outputs": [
    {
     "name": "stdout",
     "output_type": "stream",
     "text": [
      "1,2,3,4,5\n"
     ]
    }
   ],
   "source": [
    "print(num)"
   ]
  },
  {
   "cell_type": "code",
   "execution_count": null,
   "id": "6969a652",
   "metadata": {},
   "outputs": [],
   "source": []
  },
  {
   "cell_type": "code",
   "execution_count": 4,
   "id": "db58c527",
   "metadata": {},
   "outputs": [
    {
     "name": "stdout",
     "output_type": "stream",
     "text": [
      "23\n",
      "Hello world\n"
     ]
    }
   ],
   "source": [
    "print(b)\n",
    "print(\"Hello world\")"
   ]
  },
  {
   "cell_type": "code",
   "execution_count": 14,
   "id": "2223a82d",
   "metadata": {},
   "outputs": [
    {
     "name": "stdout",
     "output_type": "stream",
     "text": [
      "<class 'str'>\n"
     ]
    }
   ],
   "source": [
    "print(type(num))"
   ]
  },
  {
   "cell_type": "markdown",
   "id": "4e4e2940",
   "metadata": {},
   "source": [
    "# Operators in python"
   ]
  },
  {
   "cell_type": "code",
   "execution_count": 5,
   "id": "2f7e3321",
   "metadata": {},
   "outputs": [
    {
     "name": "stdout",
     "output_type": "stream",
     "text": [
      "16\n",
      "8\n",
      "48\n",
      "3.0\n",
      "0\n",
      "20736\n"
     ]
    }
   ],
   "source": [
    "a = 12 ; \n",
    "b = 4 ; \n",
    "\n",
    "print(a+b)\n",
    "print(a-b)\n",
    "print(a*b)\n",
    "print(a/b)\n",
    "print(a%b)\n",
    "print(a**b)"
   ]
  },
  {
   "cell_type": "code",
   "execution_count": 7,
   "id": "10cd9798",
   "metadata": {},
   "outputs": [
    {
     "name": "stdout",
     "output_type": "stream",
     "text": [
      "13\n"
     ]
    }
   ],
   "source": [
    "#Multiple Variable assingment\n",
    "\n",
    "a , b ,c = 12 , 13 , 14\n",
    "print(b)"
   ]
  },
  {
   "cell_type": "markdown",
   "id": "46059c72",
   "metadata": {},
   "source": [
    "# Control - Flow \n",
    "- If\n",
    "- Elif\n",
    "- Else\n"
   ]
  },
  {
   "cell_type": "code",
   "execution_count": 11,
   "id": "b6e5a1e9",
   "metadata": {},
   "outputs": [
    {
     "name": "stdout",
     "output_type": "stream",
     "text": [
      "Enter Age: -12\n",
      "Invalid age\n"
     ]
    }
   ],
   "source": [
    "age = int(input(\"Enter Age: \"))\n",
    "\n",
    "if(age>=18):\n",
    "    print(\"Can vote\")\n",
    "elif(age<0):\n",
    "    print(\"Invalid age\")\n",
    "else:\n",
    "    print(\"Can't vote\")"
   ]
  },
  {
   "cell_type": "markdown",
   "id": "4819e460",
   "metadata": {},
   "source": [
    "## Loops"
   ]
  },
  {
   "cell_type": "code",
   "execution_count": 21,
   "id": "0dd69acb",
   "metadata": {},
   "outputs": [
    {
     "name": "stdout",
     "output_type": "stream",
     "text": [
      "5\n",
      "10\n",
      "15\n",
      "20\n",
      "25\n",
      "30\n",
      "35\n",
      "40\n",
      "45\n",
      "50\n"
     ]
    }
   ],
   "source": [
    "# While Loop\n",
    "i = 1\n",
    "while(i<11):\n",
    "    print( 5*i)\n",
    "    i = i + 1"
   ]
  },
  {
   "cell_type": "code",
   "execution_count": 4,
   "id": "b99ed259",
   "metadata": {},
   "outputs": [
    {
     "name": "stdout",
     "output_type": "stream",
     "text": [
      "1 * 5 = 5\n",
      "2 * 5 = 10\n",
      "3 * 5 = 15\n",
      "4 * 5 = 20\n",
      "5 * 5 = 25\n",
      "6 * 5 = 30\n",
      "7 * 5 = 35\n",
      "8 * 5 = 40\n",
      "9 * 5 = 45\n",
      "10 * 5 = 50\n"
     ]
    }
   ],
   "source": [
    "# For Loop\n",
    "for i in range(1,11):\n",
    "    print(f'{i} * 5 = {i*5}')        #f-string\n",
    "    i = i+1"
   ]
  },
  {
   "cell_type": "code",
   "execution_count": 8,
   "id": "0d80df43",
   "metadata": {},
   "outputs": [
    {
     "name": "stdout",
     "output_type": "stream",
     "text": [
      "1\n",
      "5\n",
      "9\n"
     ]
    }
   ],
   "source": [
    "# It is saying between 1-11 , increment every time by 4\n",
    "for i in range(1,11,4): \n",
    "    print(i)"
   ]
  },
  {
   "cell_type": "markdown",
   "id": "6ea1dc75",
   "metadata": {},
   "source": [
    "## Operators"
   ]
  },
  {
   "cell_type": "code",
   "execution_count": 31,
   "id": "60c5a29e",
   "metadata": {},
   "outputs": [
    {
     "name": "stdout",
     "output_type": "stream",
     "text": [
      "3\n"
     ]
    }
   ],
   "source": [
    "print(10//3)"
   ]
  },
  {
   "cell_type": "code",
   "execution_count": 32,
   "id": "55cfb1ba",
   "metadata": {},
   "outputs": [
    {
     "name": "stdout",
     "output_type": "stream",
     "text": [
      "3.3333333333333335\n"
     ]
    }
   ],
   "source": [
    "print(10/3)"
   ]
  },
  {
   "cell_type": "markdown",
   "id": "bb628242",
   "metadata": {},
   "source": [
    "### String comparision\n",
    "\n",
    "##### Based on their ASCII values"
   ]
  },
  {
   "cell_type": "code",
   "execution_count": 38,
   "id": "085dc338",
   "metadata": {
    "scrolled": true
   },
   "outputs": [
    {
     "name": "stdout",
     "output_type": "stream",
     "text": [
      "False\n"
     ]
    }
   ],
   "source": [
    "print(\"A\"==\"a\")"
   ]
  },
  {
   "cell_type": "code",
   "execution_count": 39,
   "id": "43adaa99",
   "metadata": {},
   "outputs": [
    {
     "name": "stdout",
     "output_type": "stream",
     "text": [
      "False\n"
     ]
    }
   ],
   "source": [
    "print(\"Ad\"==\"ab\")"
   ]
  },
  {
   "cell_type": "code",
   "execution_count": 42,
   "id": "c53756ca",
   "metadata": {},
   "outputs": [
    {
     "name": "stdout",
     "output_type": "stream",
     "text": [
      "65\n",
      "97\n"
     ]
    }
   ],
   "source": [
    "# Ord function to get ascii value of any char\n",
    "\n",
    "\n",
    "print(ord('A'))\n",
    "\n",
    "print(ord('a'))"
   ]
  },
  {
   "cell_type": "markdown",
   "id": "dcfe2dac",
   "metadata": {},
   "source": [
    "## List - Muteable / similar as array"
   ]
  },
  {
   "cell_type": "code",
   "execution_count": 36,
   "id": "0b18e62c",
   "metadata": {},
   "outputs": [],
   "source": [
    "numbers = [1, 2, 3, 4, 5]"
   ]
  },
  {
   "cell_type": "code",
   "execution_count": 37,
   "id": "7cacfd05",
   "metadata": {},
   "outputs": [
    {
     "name": "stdout",
     "output_type": "stream",
     "text": [
      "1\n"
     ]
    }
   ],
   "source": [
    "# List Operations\n",
    "\n",
    "print(numbers[0])"
   ]
  },
  {
   "cell_type": "code",
   "execution_count": 38,
   "id": "7aba1a3f",
   "metadata": {},
   "outputs": [
    {
     "name": "stdout",
     "output_type": "stream",
     "text": [
      "[1, 2, 3, 4, 5, 6]\n",
      "[6, 1, 2, 3, 4, 5, 6]\n",
      "[1, 2, 3, 4, 5, 6]\n",
      "[6, 5, 4, 3, 2, 1]\n"
     ]
    }
   ],
   "source": [
    "numbers.append(6) # adds 6 to the end\n",
    "print(numbers)\n",
    "numbers.insert(0, 6) # adds 6 at index position of 0\n",
    "print(numbers)\n",
    "numbers.remove(6) # removes 6\n",
    "print(numbers)\n",
    "numbers.reverse() # reverses the list\n",
    "print(numbers)"
   ]
  },
  {
   "cell_type": "code",
   "execution_count": 39,
   "id": "b1f97e17",
   "metadata": {},
   "outputs": [
    {
     "name": "stdout",
     "output_type": "stream",
     "text": [
      "[]\n"
     ]
    }
   ],
   "source": [
    "numbers.clear() # removes all the items\n",
    "print(numbers)"
   ]
  },
  {
   "cell_type": "markdown",
   "id": "3b72a5c0",
   "metadata": {},
   "source": [
    "## Dictionaries \n",
    "\n",
    "### - key/value pairs\n",
    "### - MuteAble"
   ]
  },
  {
   "cell_type": "code",
   "execution_count": 42,
   "id": "10249a6c",
   "metadata": {},
   "outputs": [],
   "source": [
    "customer = {\n",
    " \"name\": 'John Smith',\n",
    " \"age\": 30,\n",
    " \"is_verified\": True\n",
    "}"
   ]
  },
  {
   "cell_type": "code",
   "execution_count": 43,
   "id": "914b1c8c",
   "metadata": {},
   "outputs": [
    {
     "name": "stdout",
     "output_type": "stream",
     "text": [
      "John Smith\n"
     ]
    }
   ],
   "source": [
    "print(customer['name'])"
   ]
  },
  {
   "cell_type": "code",
   "execution_count": 45,
   "id": "13e5f09b",
   "metadata": {},
   "outputs": [
    {
     "data": {
      "text/plain": [
       "'silver'"
      ]
     },
     "execution_count": 45,
     "metadata": {},
     "output_type": "execute_result"
    }
   ],
   "source": [
    "customer.get('type', 'silver')\n"
   ]
  },
  {
   "cell_type": "code",
   "execution_count": 46,
   "id": "04d6999b",
   "metadata": {},
   "outputs": [
    {
     "name": "stdout",
     "output_type": "stream",
     "text": [
      "{'name': 'John Smith', 'age': 30, 'is_verified': True}\n"
     ]
    }
   ],
   "source": [
    "print(customer)"
   ]
  },
  {
   "cell_type": "code",
   "execution_count": 47,
   "id": "92de343b",
   "metadata": {},
   "outputs": [
    {
     "name": "stdout",
     "output_type": "stream",
     "text": [
      "{'name': 'new name', 'age': 30, 'is_verified': True}\n"
     ]
    }
   ],
   "source": [
    "customer['name'] = 'new name'\n",
    "print(customer)"
   ]
  },
  {
   "cell_type": "code",
   "execution_count": 50,
   "id": "f884d073",
   "metadata": {},
   "outputs": [],
   "source": [
    "# New dictionary\n",
    "\n",
    "fnds = {\n",
    "    1 : \"Shivam\" , \n",
    "    2 : \"Manav\"\n",
    "}"
   ]
  },
  {
   "cell_type": "code",
   "execution_count": 54,
   "id": "d31f5a2f",
   "metadata": {},
   "outputs": [
    {
     "name": "stdout",
     "output_type": "stream",
     "text": [
      "{1: 'Shivam', 2: 'Manav'}\n"
     ]
    }
   ],
   "source": [
    "print(fnds)"
   ]
  },
  {
   "cell_type": "code",
   "execution_count": 56,
   "id": "e8224982",
   "metadata": {},
   "outputs": [],
   "source": [
    "fnds[1] = \"Raju\""
   ]
  },
  {
   "cell_type": "code",
   "execution_count": 57,
   "id": "344a2062",
   "metadata": {},
   "outputs": [
    {
     "name": "stdout",
     "output_type": "stream",
     "text": [
      "{1: 'Raju', 2: 'Manav'}\n"
     ]
    }
   ],
   "source": [
    "print(fnds)"
   ]
  },
  {
   "cell_type": "markdown",
   "id": "d597e117",
   "metadata": {},
   "source": [
    "# Functions"
   ]
  },
  {
   "cell_type": "code",
   "execution_count": 61,
   "id": "44bcde4c",
   "metadata": {},
   "outputs": [],
   "source": [
    "def sum(a ,b):\n",
    "    return (a+b)"
   ]
  },
  {
   "cell_type": "code",
   "execution_count": 63,
   "id": "6a3d5cc7",
   "metadata": {},
   "outputs": [
    {
     "name": "stdout",
     "output_type": "stream",
     "text": [
      "24\n"
     ]
    }
   ],
   "source": [
    "print(sum(12,12))"
   ]
  },
  {
   "cell_type": "code",
   "execution_count": null,
   "id": "65f8e1b7",
   "metadata": {},
   "outputs": [],
   "source": [
    "prin"
   ]
  }
 ],
 "metadata": {
  "kernelspec": {
   "display_name": "Python 3 (ipykernel)",
   "language": "python",
   "name": "python3"
  },
  "language_info": {
   "codemirror_mode": {
    "name": "ipython",
    "version": 3
   },
   "file_extension": ".py",
   "mimetype": "text/x-python",
   "name": "python",
   "nbconvert_exporter": "python",
   "pygments_lexer": "ipython3",
   "version": "3.10.9"
  }
 },
 "nbformat": 4,
 "nbformat_minor": 5
}
